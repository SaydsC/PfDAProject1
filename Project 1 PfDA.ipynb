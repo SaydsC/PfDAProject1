{
 "cells": [
  {
   "cell_type": "markdown",
   "id": "22d91058",
   "metadata": {},
   "source": [
    "### Project 1 for Programming for Data Analysis\n",
    "\n",
    "****\n",
    "\n",
    "For this project you must create a data set by simulating a real-world phenomenon of\n",
    "your choosing. You may pick any phenomenon you wish – you might pick one that is\n",
    "of interest to you in your personal or professional life. Then, rather than collect data\n",
    "related to the phenomenon, you should model and synthesise such data using Python.\n",
    "\n",
    "****\n",
    "\n",
    "In my approach to this project I am going to work with a data set that looks at the attrition levels in a company to identify correlations and attempt to address any drivers. This is inline with some of the data sets I work with in my current career. Employee attrition is something that has been on the rise with companies now looking how they can retain colleagues. In line with GDPR I am using a data set I took from Kaggle and have amended this to reflect data more in line with what I see.[https://www.kaggle.com/datasets?search=employee&sort=votes]\n",
    "\n",
    "****\n",
    "\n",
    "### Synthesising Employee Attrition "
   ]
  }
 ],
 "metadata": {
  "kernelspec": {
   "display_name": "Python 3 (ipykernel)",
   "language": "python",
   "name": "python3"
  },
  "language_info": {
   "codemirror_mode": {
    "name": "ipython",
    "version": 3
   },
   "file_extension": ".py",
   "mimetype": "text/x-python",
   "name": "python",
   "nbconvert_exporter": "python",
   "pygments_lexer": "ipython3",
   "version": "3.9.13"
  }
 },
 "nbformat": 4,
 "nbformat_minor": 5
}
