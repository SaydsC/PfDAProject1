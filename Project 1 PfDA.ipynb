{
 "cells": [
  {
   "cell_type": "markdown",
   "id": "22d91058",
   "metadata": {},
   "source": [
    "### Project 1 for Programming for Data Analysis\n",
    "\n",
    "****\n",
    "\n",
    "For this project you must create a data set by simulating a real-world phenomenon of\n",
    "your choosing. You may pick any phenomenon you wish – you might pick one that is\n",
    "of interest to you in your personal or professional life. Then, rather than collect data\n",
    "related to the phenomenon, you should model and synthesise such data using Python.\n",
    "\n",
    "****\n",
    "\n",
    "In my approach to this project I am going to work with a data set that looks at the attrition levels in a company to identify correlations and attempt to address any drivers. This is inline with some of the data sets I work with in my current career. Employee attrition is something that has been on the rise with companies now looking how they can retain colleagues. I used a data set I took from Kaggle and have amended this to reflect data more in line with what I see.[https://www.kaggle.com/datasets?search=employee&sort=votes]\n",
    "\n",
    "****\n",
    "\n",
    "### Synthesising an Employee Database\n",
    "\n",
    "I downloaded the dataset as a comma separated values (csv) file which holds the data in a plain text list form. The Pandas library in Python allows us to read in the csv file for ease of data analysis. I saved the CSV file with the name Attrition. [https://www.w3schools.com/python/pandas/pandas_csv.asp] You can effectively and easily manipulate CSV files in Pandas using functions like `read_csv()` and `to_csv()`.\n",
    "\n",
    "In my Python code file I first imported the requisite libraries and settings to allow me to synthesise the data in the file.\n",
    "\n",
    "I imported libraries as follows:\n",
    "- `import pandas as pd`\n",
    "- `import numpy as np`\n",
    "- `import matplotlib.pyplt as plt` for plotting\n",
    "- `import sys`\n",
    "- `import seaborn as sns`\n",
    "\n",
    "To read in the file I used the following code `attrition = pd.read_csv(\"HR-Employee-Attrition.csv\")`. By default, the `read_csv()` method uses the first row of the CSV file as the column headings. Simple code allows us to easily find out details about the dataset. `attrition.head()` tells us the data has 22 columns and 1000 rows   and we can `print()` the dataset to determine what variables we want to work with i.e. column headings.[https://stackabuse.com/reading-and-writing-csv-files-in-python-with-pandas/].\n",
    "\n",
    "Once imported I was able to to use various commmands to draw whole data from the data set or specific data as specified in the column heading in the csv file e.g. using commands such as; `attrition.describe()` to get statistical insight like the count, mean values and standard deviation. `attrition.info()` to print information about the dataset including the index dtype and columns, non-null values and memory usage.\n",
    "\n",
    "I then amended further so that the dataset summary is not shown while starting the program, but output to analysis.txt.Function `summary_to_file()` is created for making the summary and writing it into the file at the same time. \n",
    "`def summary_to_file(): sys.stdout = open(\"summary.txt\",\"w\")`. To output the summary into a file I used the sys module and it's standard output stream `stdout`.The output gives various overviews of the dataset.\n",
    "\n",
    "Following this initial analysis I started with a simple histogram and further amended the code to show four together selceting four different variables.\n",
    "\n",
    "<img src=\"https://github.com/SaydsC/PfDAProject1/blob/main/Hist.png\">\n",
    "\n",
    "\n"
   ]
  },
  {
   "cell_type": "markdown",
   "id": "b146547b",
   "metadata": {},
   "source": [
    "#### Histograms\n",
    "****\n",
    "We have a dataset with 22 variables over 1000 rows. The benefit of doing the histogram is that it allows us to visually view the data and take some high levels notes on specific variables. From the four histograms above we can quickly see that in the workforce we have:\n",
    "- attrition level of circa 18%\n",
    "- the frequency distribution of the age of the workforce with majority aged from mid twenties to mid forties\n",
    "- the male to female ratio is circa 42:58\n",
    "- majority of colleagues have worked for the company for ten years or less\n",
    "\n",
    "Very easily we have gained some very interesting insights but there are also disadvantages to solely relying on a histogram to answer our questions. Often we need to compare more than one variable at a time to get a full understanding. e.g. of the 18% of leavers we need to understand more about them if we want to address attrition and return it to an acceptable industry standard of between 6-8%. [https://allthingsstatistics.com/miscellaneous/histogram-advantages-disadvantages/]\n",
    "****"
   ]
  },
  {
   "cell_type": "markdown",
   "id": "0c038052",
   "metadata": {},
   "source": [
    "#### Scatter plots\n",
    "****\n",
    "Scatter plots are used to observe the relationship between variables and uses dots to represent the realtionship between them. The `scatter()` method in the matplotlib library is used to draw a scatter plot. Scatter plots allow us to see the relationship amongst variables and how perhaps they correlate with each other.\n",
    "\n",
    "From the scatterplot below we have gained some further insights. We can assume attrition after 30 years service is related to retirèment. But interestingly it is equally spread out over the first 20 years of service with the exception of year 12. This tells us colleagues are more likely to  move early in their career both as they start out but also as they get established and more experienced. But we need to look at more variables."
   ]
  },
  {
   "cell_type": "markdown",
   "id": "47f2eacb",
   "metadata": {},
   "source": [
    "`f = plt.figure(figsize=(6,3))\n",
    "fig = sns.scatterplot(x=\"YearsAtCompany\", y=\"Attrition\", data=attrition)\n",
    "\n",
    "sns.set()\n",
    "plt.show()`\n",
    "\n",
    "<img src=\"https://github.com/SaydsC/PfDAProject1/blob/main/scatterplot.png\">"
   ]
  },
  {
   "cell_type": "markdown",
   "id": "2d77c194",
   "metadata": {},
   "source": [
    "#### Swarm Plot\n",
    "****"
   ]
  },
  {
   "cell_type": "code",
   "execution_count": null,
   "id": "498764db",
   "metadata": {
    "scrolled": false
   },
   "outputs": [],
   "source": [
    "#swarm plot grouping swarms by the different variables\n",
    "f=plt.figure(figsize=(20,13))\n",
    "sns.swarmplot(x=\"Attrition\", y=\"YearsAtCompany\", hue=\"Gender\", data=attrition)\n",
    "plt.show()\n",
    "data=attrition\n"
   ]
  },
  {
   "cell_type": "code",
   "execution_count": null,
   "id": "d86654d2",
   "metadata": {},
   "outputs": [],
   "source": [
    "#swarm plot grouping swarms by the different variables change to role as opposed to length of service\n",
    "f=plt.figure(figsize=(10, 6))\n",
    "sns.stripplot(x=\"Attrition\", y=\"Position\", hue=\"Gender\", data=attrition)\n",
    "plt.show()\n",
    "data=attrition"
   ]
  },
  {
   "cell_type": "code",
   "execution_count": null,
   "id": "67c4f7d6",
   "metadata": {},
   "outputs": [],
   "source": [
    "    #Bivariate Analysis\n",
    "\n",
    "\n"
   ]
  }
 ],
 "metadata": {
  "kernelspec": {
   "display_name": "Python 3 (ipykernel)",
   "language": "python",
   "name": "python3"
  },
  "language_info": {
   "codemirror_mode": {
    "name": "ipython",
    "version": 3
   },
   "file_extension": ".py",
   "mimetype": "text/x-python",
   "name": "python",
   "nbconvert_exporter": "python",
   "pygments_lexer": "ipython3",
   "version": "3.9.13"
  }
 },
 "nbformat": 4,
 "nbformat_minor": 5
}
